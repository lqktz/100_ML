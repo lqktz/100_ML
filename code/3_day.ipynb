{
 "cells": [
  {
   "cell_type": "code",
   "execution_count": 1,
   "metadata": {},
   "outputs": [
    {
     "name": "stdout",
     "output_type": "stream",
     "text": [
      "[3]\n",
      "[0 3]\n"
     ]
    },
    {
     "name": "stderr",
     "output_type": "stream",
     "text": [
      "/data/nishome/tdsw1/qiang.li/anaconda2/lib/python2.7/site-packages/sklearn/cross_validation.py:41: DeprecationWarning: This module was deprecated in version 0.18 in favor of the model_selection module into which all the refactored classes and functions are moved. Also note that the interface of the new CV iterators are different from that of this module. This module will be removed in 0.20.\n",
      "  \"This module will be removed in 0.20.\", DeprecationWarning)\n"
     ]
    },
    {
     "name": "stdout",
     "output_type": "stream",
     "text": [
      "[103282.38 144259.4  146121.95  77798.83 191050.39 105008.31  81229.06\n",
      "  97483.56 110352.25 166187.94] [103015.20159796 132582.27760815 132447.73845175  71976.09851258\n",
      " 178537.48221056 116161.24230166  67851.69209676  98791.73374687\n",
      " 113969.43533013 167921.06569551]\n"
     ]
    }
   ],
   "source": [
    "import pandas as pd \n",
    "import numpy as np\n",
    "\n",
    "data = pd.read_csv('../datasets/50_Startups.csv')\n",
    "\n",
    "#print data\n",
    "\n",
    "X = data.iloc[ : , : -1].values\n",
    "Y = data.iloc[ :, 4].values\n",
    "\n",
    "from sklearn.preprocessing import LabelEncoder, OneHotEncoder\n",
    "\n",
    "labelencode = LabelEncoder()\n",
    "# 将第三列的city对应成数字\n",
    "X[ : ,3] = labelencode.fit_transform(X [ : ,3])\n",
    "#print X\n",
    "#print \"-----------------\"\n",
    "onehotencoder = OneHotEncoder(categorical_features = [3])\n",
    "\n",
    "X = onehotencoder.fit_transform(X).toarray()\n",
    "# 各个属性（feature）在 one hot 编码下占据的位数\n",
    "print onehotencoder.n_values_\n",
    "# 在新的hot码中属性的首位编码的区间位置\n",
    "print onehotencoder.feature_indices_\n",
    "\n",
    "# 解决虚拟变量陷阱 n中情况,最多设置n-1个变量 eg: 当2,3列是0,0    那么第一列一定是1了,三列中总有一列是多余的\n",
    "X = X[:,1:]\n",
    "\n",
    "# 分割train & test data\n",
    "from sklearn.cross_validation import train_test_split\n",
    "X_train, X_test, Y_train, Y_test = train_test_split(X, Y, test_size = 0.2, random_state = 0)\n",
    "\n",
    "# 训练模型\n",
    "from sklearn.linear_model import LinearRegression\n",
    "regressor = LinearRegression()\n",
    "regressor.fit(X_train, Y_train)\n",
    "\n",
    "y_pred = regressor.predict(X_test)\n",
    "\n",
    "print Y_test, y_pred\n"
   ]
  },
  {
   "cell_type": "code",
   "execution_count": null,
   "metadata": {},
   "outputs": [],
   "source": []
  }
 ],
 "metadata": {
  "kernelspec": {
   "display_name": "Python 2",
   "language": "python",
   "name": "python2"
  },
  "language_info": {
   "codemirror_mode": {
    "name": "ipython",
    "version": 2
   },
   "file_extension": ".py",
   "mimetype": "text/x-python",
   "name": "python",
   "nbconvert_exporter": "python",
   "pygments_lexer": "ipython2",
   "version": "2.7.14"
  }
 },
 "nbformat": 4,
 "nbformat_minor": 2
}
