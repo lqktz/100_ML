{
 "cells": [
  {
   "cell_type": "markdown",
   "metadata": {},
   "source": [
    "# 1 导入库函数"
   ]
  },
  {
   "cell_type": "code",
   "execution_count": 5,
   "metadata": {},
   "outputs": [],
   "source": [
    "import numpy as np \n",
    "import pandas as pd\n",
    "import matplotlib.pyplot as plt"
   ]
  },
  {
   "cell_type": "markdown",
   "metadata": {},
   "source": [
    "# 2 获取样本数据"
   ]
  },
  {
   "cell_type": "code",
   "execution_count": 6,
   "metadata": {},
   "outputs": [],
   "source": [
    "# 400 个数据样本\n",
    "dataset =  pd.read_csv('../datasets/Social_Network_Ads.csv')\n",
    "\n",
    "X = dataset.iloc[ : , [2,3]].values\n",
    "Y = dataset.iloc[ : , 4].values"
   ]
  },
  {
   "cell_type": "markdown",
   "metadata": {},
   "source": [
    "# 3  将数据分为训练数据集和测试数据集"
   ]
  },
  {
   "cell_type": "code",
   "execution_count": 7,
   "metadata": {
    "scrolled": true
   },
   "outputs": [],
   "source": [
    "from sklearn.cross_validation import train_test_split\n",
    "X_train, X_test, Y_train, Y_test = train_test_split(X, Y, test_size = 0.2, random_state = 0)"
   ]
  },
  {
   "cell_type": "code",
   "execution_count": 12,
   "metadata": {},
   "outputs": [
    {
     "name": "stdout",
     "output_type": "stream",
     "text": [
      "[[3.00e+01 8.70e+04]\n",
      " [3.80e+01 5.00e+04]\n",
      " [3.50e+01 7.50e+04]\n",
      " [3.00e+01 7.90e+04]\n",
      " [3.50e+01 5.00e+04]\n",
      " [2.70e+01 2.00e+04]\n",
      " [3.10e+01 1.50e+04]\n",
      " [3.60e+01 1.44e+05]\n",
      " [1.80e+01 6.80e+04]\n",
      " [4.70e+01 4.30e+04]\n",
      " [3.00e+01 4.90e+04]\n",
      " [2.80e+01 5.50e+04]\n",
      " [3.70e+01 5.50e+04]\n",
      " [3.90e+01 7.70e+04]\n",
      " [2.00e+01 8.60e+04]\n",
      " [3.20e+01 1.17e+05]\n",
      " [3.70e+01 7.70e+04]\n",
      " [1.90e+01 8.50e+04]\n",
      " [5.50e+01 1.30e+05]\n",
      " [3.50e+01 2.20e+04]\n",
      " [3.50e+01 4.70e+04]\n",
      " [4.70e+01 1.44e+05]\n",
      " [4.10e+01 5.10e+04]\n",
      " [4.70e+01 1.05e+05]\n",
      " [2.30e+01 2.80e+04]\n",
      " [4.90e+01 1.41e+05]\n",
      " [2.80e+01 8.70e+04]\n",
      " [2.90e+01 8.00e+04]\n",
      " [3.70e+01 6.20e+04]\n",
      " [3.20e+01 8.60e+04]\n",
      " [2.10e+01 8.80e+04]\n",
      " [3.70e+01 7.90e+04]\n",
      " [5.70e+01 6.00e+04]\n",
      " [3.70e+01 5.30e+04]\n",
      " [2.40e+01 5.80e+04]\n",
      " [1.80e+01 5.20e+04]\n",
      " [2.20e+01 8.10e+04]\n",
      " [3.40e+01 4.30e+04]\n",
      " [3.10e+01 3.40e+04]\n",
      " [4.90e+01 3.60e+04]\n",
      " [2.70e+01 8.80e+04]\n",
      " [4.10e+01 5.20e+04]\n",
      " [2.70e+01 8.40e+04]\n",
      " [3.50e+01 2.00e+04]\n",
      " [4.30e+01 1.12e+05]\n",
      " [2.70e+01 5.80e+04]\n",
      " [3.70e+01 8.00e+04]\n",
      " [5.20e+01 9.00e+04]\n",
      " [2.60e+01 3.00e+04]\n",
      " [4.90e+01 8.60e+04]\n",
      " [5.70e+01 1.22e+05]\n",
      " [3.40e+01 2.50e+04]\n",
      " [3.50e+01 5.70e+04]\n",
      " [3.40e+01 1.15e+05]\n",
      " [5.90e+01 8.80e+04]\n",
      " [4.50e+01 3.20e+04]\n",
      " [2.90e+01 8.30e+04]\n",
      " [2.60e+01 8.00e+04]\n",
      " [4.90e+01 2.80e+04]\n",
      " [2.30e+01 2.00e+04]\n",
      " [3.20e+01 1.80e+04]\n",
      " [6.00e+01 4.20e+04]\n",
      " [1.90e+01 7.60e+04]\n",
      " [3.60e+01 9.90e+04]\n",
      " [1.90e+01 2.60e+04]\n",
      " [6.00e+01 8.30e+04]\n",
      " [2.40e+01 8.90e+04]\n",
      " [2.70e+01 5.80e+04]\n",
      " [4.00e+01 4.70e+04]\n",
      " [4.20e+01 7.00e+04]\n",
      " [3.20e+01 1.50e+05]\n",
      " [3.50e+01 7.70e+04]\n",
      " [2.20e+01 6.30e+04]\n",
      " [4.50e+01 2.20e+04]\n",
      " [2.70e+01 8.90e+04]\n",
      " [1.80e+01 8.20e+04]\n",
      " [4.20e+01 7.90e+04]\n",
      " [4.00e+01 6.00e+04]\n",
      " [5.30e+01 3.40e+04]\n",
      " [4.70e+01 1.07e+05]]\n"
     ]
    }
   ],
   "source": [
    "from sklearn.preprocessing import StandardScaler\n",
    "sc = StandardScaler()\n",
    "#print X_train\n",
    "X_train = sc.fit_transform(X_train)\n",
    "#print X_test\n",
    "X_test = sc.transform(X_test)\n",
    "print X_test"
   ]
  },
  {
   "cell_type": "markdown",
   "metadata": {},
   "source": [
    "# 4 导入回归模型"
   ]
  },
  {
   "cell_type": "code",
   "execution_count": 7,
   "metadata": {},
   "outputs": [
    {
     "data": {
      "text/plain": [
       "LogisticRegression(C=1.0, class_weight=None, dual=False, fit_intercept=True,\n",
       "          intercept_scaling=1, max_iter=100, multi_class='ovr', n_jobs=1,\n",
       "          penalty='l2', random_state=None, solver='liblinear', tol=0.0001,\n",
       "          verbose=0, warm_start=False)"
      ]
     },
     "execution_count": 7,
     "metadata": {},
     "output_type": "execute_result"
    }
   ],
   "source": [
    "from sklearn.linear_model import LogisticRegression\n",
    "classifier  = LogisticRegression()\n",
    "classifier.fit(X_train, Y_train)"
   ]
  },
  {
   "cell_type": "markdown",
   "metadata": {},
   "source": [
    "# 5 预测"
   ]
  },
  {
   "cell_type": "code",
   "execution_count": 8,
   "metadata": {},
   "outputs": [],
   "source": [
    "y_pred = classifier.predict(X_test)"
   ]
  },
  {
   "cell_type": "markdown",
   "metadata": {},
   "source": [
    "# 6 评估"
   ]
  },
  {
   "cell_type": "code",
   "execution_count": 30,
   "metadata": {},
   "outputs": [],
   "source": [
    "from sklearn.metrics import confusion_matrix\n",
    "cm = confusion_matrix(Y_test, y_pred)"
   ]
  },
  {
   "cell_type": "code",
   "execution_count": 29,
   "metadata": {},
   "outputs": [
    {
     "data": {
      "image/png": "[encoded data removed]",
      "text/plain": [
       "<matplotlib.figure.Figure at 0x7f5fb0aa6690>"
      ]
     },
     "metadata": {},
     "output_type": "display_data"
    }
   ],
   "source": [
    "plt.legend() # 展示图例\n",
    "plt.xlabel('age') # 给 x 轴添加标签\n",
    "plt.ylabel('Estimated salary') # 给 y 轴添加标签\n",
    "plt.title('Logistic Regression ') # 添加图形标题\n",
    "plt.show()\n"
   ]
  },
  {
   "cell_type": "code",
   "execution_count": null,
   "metadata": {},
   "outputs": [],
   "source": []
  }
 ],
 "metadata": {
  "kernelspec": {
   "display_name": "Python 2",
   "language": "python",
   "name": "python2"
  },
  "language_info": {
   "codemirror_mode": {
    "name": "ipython",
    "version": 2
   },
   "file_extension": ".py",
   "mimetype": "text/x-python",
   "name": "python",
   "nbconvert_exporter": "python",
   "pygments_lexer": "ipython2",
   "version": "2.7.14"
  }
 },
 "nbformat": 4,
 "nbformat_minor": 2
}
