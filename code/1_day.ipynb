{
 "cells": [
  {
   "cell_type": "code",
   "execution_count": 28,
   "metadata": {
    "scrolled": false
   },
   "outputs": [
    {
     "name": "stdout",
     "output_type": "stream",
     "text": [
      "[[-1.          0.          1.         -1.72380603 -1.26408415]\n",
      " [-1.          0.          1.          0.04734201 -0.8941083 ]\n",
      " [ 1.          0.         -1.          1.43418434  1.60322868]\n",
      " [-1.          0.          1.         -0.0696206  -0.06166264]\n",
      " [ 1.          0.         -1.          0.83266236  0.95577094]\n",
      " [ 1.          0.         -1.         -0.52076208 -0.33914453]] [1 0 1 0 0 1]\n",
      "[[-0.57735027  0.57735027  0.         -1.28661606 -1.24074912]\n",
      " [-0.57735027  0.57735027  0.          1.49525651  1.53895492]\n",
      " [-0.57735027  0.57735027  0.          0.10432022 -0.3035309 ]\n",
      " [ 1.73205081 -1.73205081  0.         -0.31296066  0.0053251 ]] [0 0 1 1]\n"
     ]
    }
   ],
   "source": [
    "import numpy as np\n",
    "import pandas as pd\n",
    "from sklearn.preprocessing import Imputer, LabelEncoder, OneHotEncoder\n",
    "from sklearn.preprocessing import LabelEncoder, OneHotEncoder\n",
    "# from sklearn.cross_validation import train_test_split 会报错https://blog.csdn.net/cheneyshark/article/details/78640887\n",
    "from sklearn.model_selection import train_test_split\n",
    "from sklearn.preprocessing import StandardScaler\n",
    "\n",
    "# 导入数据集，获取X， Y\n",
    "dataset = pd.read_csv('../datasets/Data.csv')\n",
    "X = dataset.iloc[ : , :-1].values\n",
    "Y = dataset.iloc[ : , 3].values\n",
    "\n",
    "# X 中有NAN数据，替换之\n",
    "imp = Imputer(missing_values=np.nan , strategy='mean', axis=0)\n",
    "imp.fit(X[ : , 1:3])\n",
    "X[ : , 1:3] = imp.transform(X[ : , 1:3])\n",
    "\n",
    "# 将X第一列数据的单词，对应到数字标签\n",
    "labelencoder_X = LabelEncoder()\n",
    "X[ : , 0] = labelencoder_X.fit_transform(X[ : , 0])\n",
    "\n",
    "# 将X第一列数据的单词，对应到数字标签\n",
    "labelencoder_Y = LabelEncoder()\n",
    "Y = labelencoder_Y.fit_transform(Y)\n",
    "\n",
    "# 对第一列进行OneHot编码，也就是用France Spain Germany...转换的那一列，总共有三类，转换成3列数据用OneHot表示\n",
    "onehotencoder = OneHotEncoder(categorical_features = [0])\n",
    "X = onehotencoder.fit_transform(X).toarray()\n",
    "\n",
    "# 按照8:2的比例对数据集进行快速打乱，分为训练集和测试集\n",
    "X_train, X_test, Y_train, Y_test = train_test_split( X , Y , test_size = 0.4, random_state = 0)\n",
    "\n",
    "# 针对每个特征值来做去均值和方差的归一化操作\n",
    "sc_X = StandardScaler()\n",
    "X_test = sc_X.fit_transform(X_test)\n",
    "X_train = sc_X.fit_transform(X_train)\n",
    "\n",
    "print X_train, Y_train\n",
    "print X_test, Y_test"
   ]
  }
 ],
 "metadata": {
  "kernelspec": {
   "display_name": "Python 2",
   "language": "python",
   "name": "python2"
  },
  "language_info": {
   "codemirror_mode": {
    "name": "ipython",
    "version": 2
   },
   "file_extension": ".py",
   "mimetype": "text/x-python",
   "name": "python",
   "nbconvert_exporter": "python",
   "pygments_lexer": "ipython2",
   "version": "2.7.14"
  }
 },
 "nbformat": 4,
 "nbformat_minor": 2
}
